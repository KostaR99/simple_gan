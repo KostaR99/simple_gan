{
  "nbformat": 4,
  "nbformat_minor": 0,
  "metadata": {
    "colab": {
      "name": "Introduction_to_gans.ipynb",
      "provenance": [],
      "collapsed_sections": []
    },
    "kernelspec": {
      "name": "python3",
      "display_name": "Python 3"
    },
    "language_info": {
      "name": "python"
    },
    "accelerator": "GPU"
  },
  "cells": [
    {
      "cell_type": "code",
      "metadata": {
        "id": "X1XsiUUVwe-Z"
      },
      "source": [
        "import tensorflow as tf\n",
        "from tensorflow import keras\n",
        "from keras import Sequential\n",
        "from keras.layers import Dense, Reshape, BatchNormalization, Dropout, Conv2D, Conv2DTranspose, MaxPool2D, LeakyReLU, Flatten\n",
        "from keras.models import Model\n",
        "from keras.datasets import mnist\n",
        "import numpy as np\n",
        "import matplotlib.pyplot as plt\n",
        "import time\n",
        "from tqdm import tqdm"
      ],
      "execution_count": 21,
      "outputs": []
    },
    {
      "cell_type": "code",
      "metadata": {
        "colab": {
          "base_uri": "https://localhost:8080/",
          "height": 35
        },
        "id": "bt5JCvQLxY62",
        "outputId": "f3db6b91-bfb3-459f-8991-88cc2558f244"
      },
      "source": [
        "tf.__version__"
      ],
      "execution_count": 2,
      "outputs": [
        {
          "output_type": "execute_result",
          "data": {
            "application/vnd.google.colaboratory.intrinsic+json": {
              "type": "string"
            },
            "text/plain": [
              "'2.6.0'"
            ]
          },
          "metadata": {},
          "execution_count": 2
        }
      ]
    },
    {
      "cell_type": "code",
      "metadata": {
        "colab": {
          "base_uri": "https://localhost:8080/"
        },
        "id": "LPu4hXFJxbCN",
        "outputId": "c4426203-7e68-4368-d5df-d79ac1edc95b"
      },
      "source": [
        "(train_images,_),(_,_) = mnist.load_data()"
      ],
      "execution_count": 3,
      "outputs": [
        {
          "output_type": "stream",
          "name": "stdout",
          "text": [
            "Downloading data from https://storage.googleapis.com/tensorflow/tf-keras-datasets/mnist.npz\n",
            "11493376/11490434 [==============================] - 0s 0us/step\n",
            "11501568/11490434 [==============================] - 0s 0us/step\n"
          ]
        }
      ]
    },
    {
      "cell_type": "code",
      "metadata": {
        "id": "NPabH9igxpt9"
      },
      "source": [
        "train_images = train_images.reshape(train_images.shape[0], 28, 28, 1).astype('float32')\n",
        "train_images = (train_images - 127.5) / 127.5"
      ],
      "execution_count": 4,
      "outputs": []
    },
    {
      "cell_type": "code",
      "metadata": {
        "colab": {
          "base_uri": "https://localhost:8080/",
          "height": 578
        },
        "id": "80kPR74-yUds",
        "outputId": "39872b22-439e-4459-f6ea-b17cf4f7ea1b"
      },
      "source": [
        "plt.figure(figsize=(10,10))\n",
        "for i in range(25):\n",
        "    plt.subplot(5,5,i+1)\n",
        "    plt.xticks([])\n",
        "    plt.yticks([])\n",
        "    plt.grid(False)\n",
        "    plt.imshow(train_images[i].squeeze(), cmap=plt.cm.binary)\n",
        "plt.show()"
      ],
      "execution_count": 5,
      "outputs": [
        {
          "output_type": "display_data",
          "data": {
            "image/png": "[encoded data removed]",
            "text/plain": [
              "<Figure size 720x720 with 25 Axes>"
            ]
          },
          "metadata": {}
        }
      ]
    },
    {
      "cell_type": "code",
      "metadata": {
        "id": "qKyOO90nxshT"
      },
      "source": [
        "BUFFER_SIZE = 60000\n",
        "BATCH_SIZE = 256"
      ],
      "execution_count": 6,
      "outputs": []
    },
    {
      "cell_type": "code",
      "metadata": {
        "id": "ceqpzK3qyH83"
      },
      "source": [
        "train_dataset = tf.data.Dataset.from_tensor_slices(train_images).shuffle(BUFFER_SIZE).batch(BATCH_SIZE)"
      ],
      "execution_count": 7,
      "outputs": []
    },
    {
      "cell_type": "code",
      "metadata": {
        "id": "fv6Yg_fTyK1A"
      },
      "source": [
        "def create_generator():\n",
        "\n",
        "    generator = Sequential()\n",
        "    generator.add(Dense(7*7*256,input_shape=(100,),use_bias=False))\n",
        "    generator.add(BatchNormalization())\n",
        "    generator.add(LeakyReLU())\n",
        "\n",
        "    generator.add(Reshape((7,7,256)))\n",
        "    generator.add(Conv2DTranspose(128,5,1,padding='same',use_bias=False))\n",
        "    generator.add(BatchNormalization())\n",
        "    generator.add(LeakyReLU())\n",
        "\n",
        "    generator.add(Conv2DTranspose(64,5,2,padding='same',use_bias=False))\n",
        "    generator.add(BatchNormalization())\n",
        "    generator.add(LeakyReLU())\n",
        "\n",
        "    generator.add(Conv2DTranspose(1,5,2,padding='same',activation='tanh',use_bias=False))\n",
        "\n",
        "    return generator\n"
      ],
      "execution_count": 8,
      "outputs": []
    },
    {
      "cell_type": "code",
      "metadata": {
        "id": "9ivSdMQjyK5W"
      },
      "source": [
        "def create_discriminator():\n",
        "    discriminator = Sequential()\n",
        "    discriminator.add(Conv2D(64,4,2,padding='same',input_shape=(28,28,1)))\n",
        "    discriminator.add(LeakyReLU())\n",
        "    discriminator.add(Dropout(0.3))\n",
        "\n",
        "    discriminator.add(Conv2D(128,4,2,padding='same'))\n",
        "    discriminator.add(LeakyReLU())\n",
        "    discriminator.add(Dropout(0.3))\n",
        "\n",
        "    discriminator.add(Flatten())\n",
        "    \n",
        "    discriminator.add(Dense(1))\n",
        "\n",
        "    return discriminator"
      ],
      "execution_count": 9,
      "outputs": []
    },
    {
      "cell_type": "code",
      "metadata": {
        "id": "gM-WxOBhyK9Q"
      },
      "source": [
        "class GAN():\n",
        "    def __init__(self):\n",
        "        self.generator = create_generator()\n",
        "        self.discriminator = create_discriminator()\n",
        "        self.loss = keras.losses.BinaryCrossentropy(from_logits=True)\n",
        "        self.epochs = 25\n",
        "        self.noise_dim = 100\n",
        "        self.generator_optimizer = tf.keras.optimizers.Adam(0.0002,0.5)\n",
        "        self.discriminator_optimizer = tf.keras.optimizers.Adam(0.0002,0.5)\n",
        "\n",
        "    def discriminator_loss(self,real_outputs,fake_outputs):\n",
        "        real_loss = self.loss(tf.ones_like(real_outputs),real_outputs)\n",
        "        fake_loss = self.loss(tf.zeros_like(fake_outputs),fake_outputs)\n",
        "        total_loss = real_loss + fake_loss\n",
        "        return total_loss\n",
        "\n",
        "    def generator_loss(self,fake_outputs):\n",
        "        return self.loss(tf.ones_like(fake_outputs),fake_outputs)\n",
        "\n",
        "    \n",
        "    @tf.function\n",
        "    def train_step(self,images):\n",
        "        noise = tf.random.normal([BATCH_SIZE,self.noise_dim])\n",
        "    \n",
        "        with tf.GradientTape() as gen_tape, tf.GradientTape() as disc_tape:\n",
        "            generated_images = self.generator(noise,training=True)\n",
        "\n",
        "            real_outputs = self.discriminator(images,training=True)\n",
        "            fake_outputs = self.discriminator(generated_images,training=True)\n",
        "\n",
        "            gen_loss = self.generator_loss(fake_outputs)\n",
        "            disc_loss = self.discriminator_loss(real_outputs,fake_outputs)\n",
        "\n",
        "        generator_gradients = gen_tape.gradient(gen_loss,self.generator.trainable_variables)\n",
        "        discriminator_gradients = disc_tape.gradient(disc_loss,self.discriminator.trainable_variables)\n",
        "\n",
        "        self.generator_optimizer.apply_gradients(zip(generator_gradients,self.generator.trainable_variables))\n",
        "        self.discriminator_optimizer.apply_gradients(zip(discriminator_gradients,self.discriminator.trainable_variables))\n",
        "\n",
        "        return gen_loss, disc_loss\n",
        "\n",
        "\n",
        "    def fit(self,dataset):\n",
        "        history = {'gen_loss':[],'disc_loss':[]}\n",
        "        gen_loss=0\n",
        "        dis_loss=0\n",
        "        for epoch in range(self.epochs):\n",
        "            print(f\"Epoch:{epoch+1} of {self.epochs} epochs\")\n",
        "            start = time.time()\n",
        "            for batch in tqdm(dataset):\n",
        "                gen_loss, disc_loss = self.train_step(batch)\n",
        "            print(f\"Generator loss: {gen_loss},\\ndiscriminator_loss: {disc_loss}\")\n",
        "            history['gen_loss'].append(gen_loss)\n",
        "            history['disc_loss'].append(disc_loss)\n",
        "\n",
        "        return history"
      ],
      "execution_count": 55,
      "outputs": []
    },
    {
      "cell_type": "code",
      "metadata": {
        "colab": {
          "base_uri": "https://localhost:8080/"
        },
        "id": "SMYrn0oo8uD9",
        "outputId": "cfdcf8e5-9dac-42bc-c88b-441cbe66ba80"
      },
      "source": [
        "!nvidia-smi\n",
        "# physical_devices = tf.config.list_physical_devices(\"GPU\")\n",
        "# tf.config.experimental.set_memory_growth(physical_devices[0], True)"
      ],
      "execution_count": 20,
      "outputs": [
        {
          "output_type": "stream",
          "name": "stdout",
          "text": [
            "Sun Sep 26 21:13:01 2021       \n",
            "+-----------------------------------------------------------------------------+\n",
            "| NVIDIA-SMI 470.63.01    Driver Version: 460.32.03    CUDA Version: 11.2     |\n",
            "|-------------------------------+----------------------+----------------------+\n",
            "| GPU  Name        Persistence-M| Bus-Id        Disp.A | Volatile Uncorr. ECC |\n",
            "| Fan  Temp  Perf  Pwr:Usage/Cap|         Memory-Usage | GPU-Util  Compute M. |\n",
            "|                               |                      |               MIG M. |\n",
            "|===============================+======================+======================|\n",
            "|   0  Tesla K80           Off  | 00000000:00:04.0 Off |                    0 |\n",
            "| N/A   51C    P0    58W / 149W |   2303MiB / 11441MiB |      0%      Default |\n",
            "|                               |                      |                  N/A |\n",
            "+-------------------------------+----------------------+----------------------+\n",
            "                                                                               \n",
            "+-----------------------------------------------------------------------------+\n",
            "| Processes:                                                                  |\n",
            "|  GPU   GI   CI        PID   Type   Process name                  GPU Memory |\n",
            "|        ID   ID                                                   Usage      |\n",
            "|=============================================================================|\n",
            "|  No running processes found                                                 |\n",
            "+-----------------------------------------------------------------------------+\n"
          ]
        }
      ]
    },
    {
      "cell_type": "code",
      "metadata": {
        "colab": {
          "base_uri": "https://localhost:8080/"
        },
        "id": "ukB_sUHLyLA7",
        "outputId": "522b739a-bd20-43d0-abd9-1193be637461"
      },
      "source": [
        "gan = GAN()\n",
        "history = gan.fit(train_dataset)"
      ],
      "execution_count": 56,
      "outputs": [
        {
          "output_type": "stream",
          "name": "stdout",
          "text": [
            "Epoch:1 of 25 epochs\n"
          ]
        },
        {
          "output_type": "stream",
          "name": "stderr",
          "text": [
            "100%|██████████| 235/235 [00:24<00:00,  9.75it/s]\n"
          ]
        },
        {
          "output_type": "stream",
          "name": "stdout",
          "text": [
            "Generator loss: 0.6828868389129639,\n",
            "discriminator_loss: 1.3640949726104736\n",
            "Epoch:2 of 25 epochs\n"
          ]
        },
        {
          "output_type": "stream",
          "name": "stderr",
          "text": [
            "100%|██████████| 235/235 [00:21<00:00, 10.73it/s]\n"
          ]
        },
        {
          "output_type": "stream",
          "name": "stdout",
          "text": [
            "Generator loss: 0.6843820810317993,\n",
            "discriminator_loss: 1.2962453365325928\n",
            "Epoch:3 of 25 epochs\n"
          ]
        },
        {
          "output_type": "stream",
          "name": "stderr",
          "text": [
            "100%|██████████| 235/235 [00:22<00:00, 10.67it/s]\n"
          ]
        },
        {
          "output_type": "stream",
          "name": "stdout",
          "text": [
            "Generator loss: 0.6932069659233093,\n",
            "discriminator_loss: 1.3349480628967285\n",
            "Epoch:4 of 25 epochs\n"
          ]
        },
        {
          "output_type": "stream",
          "name": "stderr",
          "text": [
            "100%|██████████| 235/235 [00:22<00:00, 10.66it/s]\n"
          ]
        },
        {
          "output_type": "stream",
          "name": "stdout",
          "text": [
            "Generator loss: 0.7470530867576599,\n",
            "discriminator_loss: 1.3444594144821167\n",
            "Epoch:5 of 25 epochs\n"
          ]
        },
        {
          "output_type": "stream",
          "name": "stderr",
          "text": [
            "100%|██████████| 235/235 [00:21<00:00, 10.70it/s]\n"
          ]
        },
        {
          "output_type": "stream",
          "name": "stdout",
          "text": [
            "Generator loss: 0.84464430809021,\n",
            "discriminator_loss: 1.2691926956176758\n",
            "Epoch:6 of 25 epochs\n"
          ]
        },
        {
          "output_type": "stream",
          "name": "stderr",
          "text": [
            "100%|██████████| 235/235 [00:41<00:00,  5.72it/s]\n"
          ]
        },
        {
          "output_type": "stream",
          "name": "stdout",
          "text": [
            "Generator loss: 0.7977044582366943,\n",
            "discriminator_loss: 1.2373347282409668\n",
            "Epoch:7 of 25 epochs\n"
          ]
        },
        {
          "output_type": "stream",
          "name": "stderr",
          "text": [
            "100%|██████████| 235/235 [00:22<00:00, 10.60it/s]\n"
          ]
        },
        {
          "output_type": "stream",
          "name": "stdout",
          "text": [
            "Generator loss: 0.9450047612190247,\n",
            "discriminator_loss: 1.2904362678527832\n",
            "Epoch:8 of 25 epochs\n"
          ]
        },
        {
          "output_type": "stream",
          "name": "stderr",
          "text": [
            "100%|██████████| 235/235 [00:22<00:00, 10.67it/s]\n"
          ]
        },
        {
          "output_type": "stream",
          "name": "stdout",
          "text": [
            "Generator loss: 0.8611087799072266,\n",
            "discriminator_loss: 1.3320562839508057\n",
            "Epoch:9 of 25 epochs\n"
          ]
        },
        {
          "output_type": "stream",
          "name": "stderr",
          "text": [
            "100%|██████████| 235/235 [00:21<00:00, 10.69it/s]\n"
          ]
        },
        {
          "output_type": "stream",
          "name": "stdout",
          "text": [
            "Generator loss: 0.8477194905281067,\n",
            "discriminator_loss: 1.2624444961547852\n",
            "Epoch:10 of 25 epochs\n"
          ]
        },
        {
          "output_type": "stream",
          "name": "stderr",
          "text": [
            "100%|██████████| 235/235 [00:21<00:00, 10.68it/s]\n"
          ]
        },
        {
          "output_type": "stream",
          "name": "stdout",
          "text": [
            "Generator loss: 0.738955557346344,\n",
            "discriminator_loss: 1.3223083019256592\n",
            "Epoch:11 of 25 epochs\n"
          ]
        },
        {
          "output_type": "stream",
          "name": "stderr",
          "text": [
            "100%|██████████| 235/235 [00:22<00:00, 10.67it/s]\n"
          ]
        },
        {
          "output_type": "stream",
          "name": "stdout",
          "text": [
            "Generator loss: 0.7126583456993103,\n",
            "discriminator_loss: 1.3321514129638672\n",
            "Epoch:12 of 25 epochs\n"
          ]
        },
        {
          "output_type": "stream",
          "name": "stderr",
          "text": [
            "100%|██████████| 235/235 [00:21<00:00, 10.70it/s]\n"
          ]
        },
        {
          "output_type": "stream",
          "name": "stdout",
          "text": [
            "Generator loss: 0.673949658870697,\n",
            "discriminator_loss: 1.26935613155365\n",
            "Epoch:13 of 25 epochs\n"
          ]
        },
        {
          "output_type": "stream",
          "name": "stderr",
          "text": [
            "100%|██████████| 235/235 [00:21<00:00, 10.71it/s]\n"
          ]
        },
        {
          "output_type": "stream",
          "name": "stdout",
          "text": [
            "Generator loss: 0.7600425481796265,\n",
            "discriminator_loss: 1.3331522941589355\n",
            "Epoch:14 of 25 epochs\n"
          ]
        },
        {
          "output_type": "stream",
          "name": "stderr",
          "text": [
            "100%|██████████| 235/235 [00:21<00:00, 10.69it/s]\n"
          ]
        },
        {
          "output_type": "stream",
          "name": "stdout",
          "text": [
            "Generator loss: 0.6255128383636475,\n",
            "discriminator_loss: 1.5290107727050781\n",
            "Epoch:15 of 25 epochs\n"
          ]
        },
        {
          "output_type": "stream",
          "name": "stderr",
          "text": [
            "100%|██████████| 235/235 [00:21<00:00, 10.69it/s]\n"
          ]
        },
        {
          "output_type": "stream",
          "name": "stdout",
          "text": [
            "Generator loss: 0.7805262804031372,\n",
            "discriminator_loss: 1.3426768779754639\n",
            "Epoch:16 of 25 epochs\n"
          ]
        },
        {
          "output_type": "stream",
          "name": "stderr",
          "text": [
            "100%|██████████| 235/235 [00:22<00:00, 10.66it/s]\n"
          ]
        },
        {
          "output_type": "stream",
          "name": "stdout",
          "text": [
            "Generator loss: 0.8056368827819824,\n",
            "discriminator_loss: 1.1471965312957764\n",
            "Epoch:17 of 25 epochs\n"
          ]
        },
        {
          "output_type": "stream",
          "name": "stderr",
          "text": [
            "100%|██████████| 235/235 [00:21<00:00, 10.69it/s]\n"
          ]
        },
        {
          "output_type": "stream",
          "name": "stdout",
          "text": [
            "Generator loss: 0.8276995420455933,\n",
            "discriminator_loss: 1.1966947317123413\n",
            "Epoch:18 of 25 epochs\n"
          ]
        },
        {
          "output_type": "stream",
          "name": "stderr",
          "text": [
            "100%|██████████| 235/235 [00:21<00:00, 10.70it/s]\n"
          ]
        },
        {
          "output_type": "stream",
          "name": "stdout",
          "text": [
            "Generator loss: 0.8073912262916565,\n",
            "discriminator_loss: 1.344167709350586\n",
            "Epoch:19 of 25 epochs\n"
          ]
        },
        {
          "output_type": "stream",
          "name": "stderr",
          "text": [
            "100%|██████████| 235/235 [00:21<00:00, 10.70it/s]\n"
          ]
        },
        {
          "output_type": "stream",
          "name": "stdout",
          "text": [
            "Generator loss: 0.7980953454971313,\n",
            "discriminator_loss: 1.1822803020477295\n",
            "Epoch:20 of 25 epochs\n"
          ]
        },
        {
          "output_type": "stream",
          "name": "stderr",
          "text": [
            "100%|██████████| 235/235 [00:22<00:00, 10.67it/s]\n"
          ]
        },
        {
          "output_type": "stream",
          "name": "stdout",
          "text": [
            "Generator loss: 0.9162634015083313,\n",
            "discriminator_loss: 1.2479166984558105\n",
            "Epoch:21 of 25 epochs\n"
          ]
        },
        {
          "output_type": "stream",
          "name": "stderr",
          "text": [
            "100%|██████████| 235/235 [00:21<00:00, 10.70it/s]\n"
          ]
        },
        {
          "output_type": "stream",
          "name": "stdout",
          "text": [
            "Generator loss: 0.9633474349975586,\n",
            "discriminator_loss: 1.3880836963653564\n",
            "Epoch:22 of 25 epochs\n"
          ]
        },
        {
          "output_type": "stream",
          "name": "stderr",
          "text": [
            "100%|██████████| 235/235 [00:41<00:00,  5.72it/s]\n"
          ]
        },
        {
          "output_type": "stream",
          "name": "stdout",
          "text": [
            "Generator loss: 0.7867089509963989,\n",
            "discriminator_loss: 1.2650415897369385\n",
            "Epoch:23 of 25 epochs\n"
          ]
        },
        {
          "output_type": "stream",
          "name": "stderr",
          "text": [
            "100%|██████████| 235/235 [00:22<00:00, 10.62it/s]\n"
          ]
        },
        {
          "output_type": "stream",
          "name": "stdout",
          "text": [
            "Generator loss: 0.7381775975227356,\n",
            "discriminator_loss: 1.3137614727020264\n",
            "Epoch:24 of 25 epochs\n"
          ]
        },
        {
          "output_type": "stream",
          "name": "stderr",
          "text": [
            "100%|██████████| 235/235 [00:22<00:00, 10.67it/s]\n"
          ]
        },
        {
          "output_type": "stream",
          "name": "stdout",
          "text": [
            "Generator loss: 0.7213637828826904,\n",
            "discriminator_loss: 1.4197875261306763\n",
            "Epoch:25 of 25 epochs\n"
          ]
        },
        {
          "output_type": "stream",
          "name": "stderr",
          "text": [
            "100%|██████████| 235/235 [00:22<00:00, 10.68it/s]"
          ]
        },
        {
          "output_type": "stream",
          "name": "stdout",
          "text": [
            "Generator loss: 0.9228695631027222,\n",
            "discriminator_loss: 1.3234899044036865\n"
          ]
        },
        {
          "output_type": "stream",
          "name": "stderr",
          "text": [
            "\n"
          ]
        }
      ]
    },
    {
      "cell_type": "code",
      "metadata": {
        "colab": {
          "base_uri": "https://localhost:8080/",
          "height": 295
        },
        "id": "AJXZ1MTxOlQp",
        "outputId": "6bfcad77-84a1-4627-e17b-672979f00ba0"
      },
      "source": [
        "x = [i for i in range(25)]\n",
        "plt.plot(x,history['gen_loss'])\n",
        "plt.plot(x,history['disc_loss'])\n",
        "plt.title('change in loss over epochs')\n",
        "plt.legend(['gen_loss','dis_loss'])\n",
        "plt.xlabel('epochs')\n",
        "plt.ylabel('loss')\n",
        "plt.show()"
      ],
      "execution_count": 60,
      "outputs": [
        {
          "output_type": "display_data",
          "data": {
            "image/png": "[encoded data removed]",
            "text/plain": [
              "<Figure size 432x288 with 1 Axes>"
            ]
          },
          "metadata": {
            "needs_background": "light"
          }
        }
      ]
    },
    {
      "cell_type": "code",
      "metadata": {
        "id": "-uE8BmUoyLE5"
      },
      "source": [
        "noise = np.random.randn(32,100)\n",
        "pred = gan.generator.predict(noise)"
      ],
      "execution_count": 58,
      "outputs": []
    },
    {
      "cell_type": "code",
      "metadata": {
        "colab": {
          "base_uri": "https://localhost:8080/",
          "height": 578
        },
        "id": "BzdE4R6LBYvu",
        "outputId": "1d253ace-7703-4061-af03-1dd11ac2df91"
      },
      "source": [
        "plt.figure(figsize=(10,10))\n",
        "for i in range(25):\n",
        "    plt.subplot(5,5,i+1)\n",
        "    plt.xticks([])\n",
        "    plt.yticks([])\n",
        "    plt.grid(False)\n",
        "    plt.imshow(pred[i].squeeze(), cmap=plt.cm.binary)\n",
        "plt.show()"
      ],
      "execution_count": 59,
      "outputs": [
        {
          "output_type": "display_data",
          "data": {
            "image/png": "[encoded data removed]",
            "text/plain": [
              "<Figure size 720x720 with 25 Axes>"
            ]
          },
          "metadata": {}
        }
      ]
    }
  ]
}